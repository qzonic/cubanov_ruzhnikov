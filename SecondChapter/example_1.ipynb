{
 "cells": [
  {
   "cell_type": "markdown",
   "source": [
    "Определить модули полных векторов напряженности электрического и магнитного полей элементарного электрического излучателя в точке пространства с координатами: r = 1000 м, θ = 45°, φ = 60°. Излучатель ориентирован вдоль оси Х (рис. 2.27). Амплитуда тока, возбуждающего излучатель, равна 1 А, частота 300 МГц, длина излучателя 10 см."
   ],
   "metadata": {
    "collapsed": false
   }
  },
  {
   "cell_type": "markdown",
   "source": [
    "![](../img/Chapter_2_example_1_picture_1.jpg)"
   ],
   "metadata": {
    "collapsed": false
   }
  },
  {
   "cell_type": "markdown",
   "source": [
    "Векторы составляющих напряженности электрического поля показаны на рис. 2.27. Модуль полного вектора напряженности электрического поля определяется формуле:\n",
    "$|E_m|=\\sqrt{|E_{θm}|^2+|E_{φm}|^2}$  (1)"
   ],
   "metadata": {
    "collapsed": false
   }
  },
  {
   "cell_type": "markdown",
   "source": [
    "Модули составляющих под знаком корня находятся по формулам\n",
    "$|E_{θm}|=A|cos(θ)cos(φ)|$,  (2)\n",
    "$|E_{φm}|=A|sin(φ)|$,  (3)"
   ],
   "metadata": {
    "collapsed": false
   }
  },
  {
   "cell_type": "markdown",
   "source": [],
   "metadata": {
    "collapsed": false
   }
  },
  {
   "cell_type": "markdown",
   "source": [
    "где:\n",
    "$A=\\frac{W_0I_эl}{2rλ}$ (4)\n",
    "– коэффициент, который не зависит от угловых координат и\n",
    "выражается через следующие физические величины:"
   ],
   "metadata": {
    "collapsed": false
   }
  },
  {
   "cell_type": "markdown",
   "source": [
    "$I_э$ – амплитуда тока в излучателе (А);\n",
    "$l$ – длина излучателя (м);\n",
    "$r$ – расстояние от излучателя до точки наблюдения (м);\n",
    "$λ$ – длина волны (м);\n",
    "$W_0 = \\sqrt{\\frac{μ_0}{ε_0}} = 120π = 377 Ом$ – характеристическое сопротивление свободного пространства."
   ],
   "metadata": {
    "collapsed": false
   }
  },
  {
   "cell_type": "markdown",
   "source": [
    "Подстановка (2), (3) и (4) в (1) позволяет получить выражение,\n",
    "$|E_m|=\\sqrt{(cos(θ)cos(φ))^2+(sin(φ))^2}$, которое после простых преобразований приводится к виду:\n",
    "$|E_m|=A\\sqrt{1-(cos(φ))^2(sin(θ))^2}$,  (5)"
   ],
   "metadata": {
    "collapsed": false
   }
  },
  {
   "cell_type": "markdown",
   "source": [
    "Согласно условиям задачи имеем: $I_э=1 A$, $l=0,1 м$, $r=1000 м$, $λ=c/f=1 м$ (с – скорость света $3 * 10^8 м/с$, $f$ – частота тока возбуждения 300 МГц), $W_0 = 120π$ Ом, $θ$ = 45°, $φ$ = 60°).\n"
   ],
   "metadata": {
    "collapsed": false
   }
  },
  {
   "cell_type": "markdown",
   "source": [
    "Подставим исходные данные в формулу (5) и выполним вычисления"
   ],
   "metadata": {
    "collapsed": false
   }
  },
  {
   "cell_type": "code",
   "execution_count": 11,
   "outputs": [],
   "source": [
    "# Импортируем необходиую библиотеку\n",
    "import numpy"
   ],
   "metadata": {
    "collapsed": false
   }
  },
  {
   "cell_type": "code",
   "execution_count": 12,
   "outputs": [],
   "source": [
    "# Зададим исходные данные\n",
    "I = 1 # амплитуда тока в излучателе (А)\n",
    "l = 0.1 # длина излучателя (м)\n",
    "r = 1000 # расстояние от излучателя до точки наблюдения (м)\n",
    "lam = 1 # длина волны (м)\n",
    "c = 300000000 # скорость света (м/с)\n",
    "f = 300000000 # частота тока возбуждения (Гц)\n",
    "W0 = 120 * numpy.pi # характеристическое сопротивление свободного пространства (Ом)\n",
    "teta = numpy.pi/4 # угл тета\n",
    "phi = numpy.pi/3 # угл фи\n",
    "\n",
    "A = (W0*I*l)/(2*r*lam)"
   ],
   "metadata": {
    "collapsed": false
   }
  },
  {
   "cell_type": "code",
   "execution_count": 13,
   "outputs": [],
   "source": [
    "# Функция get_abs_electric_field рассчитывает модуль полного вектора напряженности электрического поля по формуле 5.\n",
    "def get_abs_electric_field():\n",
    "    return A * numpy.sqrt(1 - numpy.cos(phi)**2*numpy.sin(teta)**2)"
   ],
   "metadata": {
    "collapsed": false
   }
  },
  {
   "cell_type": "markdown",
   "source": [
    "Расчет модуля полного вектора напряженности магнитного поля не представляет труда, если учесть, что\n",
    "$W_0=\\frac{|E_m|}{|H_m|}$ (6)"
   ],
   "metadata": {
    "collapsed": false
   }
  },
  {
   "cell_type": "markdown",
   "source": [
    "Из формулы (6) следует:\n",
    "$|H_m|=\\frac{|E_m|}{W_0}$ (7)"
   ],
   "metadata": {
    "collapsed": false
   }
  },
  {
   "cell_type": "code",
   "execution_count": 14,
   "outputs": [],
   "source": [
    "E = get_abs_electric_field()\n",
    "# Функция get_abs_magnetic_field рассчитывает модуль полного вектора напряженности магнитного поля по офрмуле 7.\n",
    "def get_abs_magnetic_field():\n",
    "    return E / W0"
   ],
   "metadata": {
    "collapsed": false
   }
  },
  {
   "cell_type": "code",
   "execution_count": 16,
   "outputs": [
    {
     "name": "stdout",
     "output_type": "stream",
     "text": [
      "4.6770717334674273e-05 А/м\n"
     ]
    }
   ],
   "source": [
    "H = get_abs_magnetic_field()\n",
    "print(H, 'А/м')"
   ],
   "metadata": {
    "collapsed": false
   }
  }
 ],
 "metadata": {
  "kernelspec": {
   "display_name": "Python 3",
   "language": "python",
   "name": "python3"
  },
  "language_info": {
   "codemirror_mode": {
    "name": "ipython",
    "version": 2
   },
   "file_extension": ".py",
   "mimetype": "text/x-python",
   "name": "python",
   "nbconvert_exporter": "python",
   "pygments_lexer": "ipython2",
   "version": "2.7.6"
  }
 },
 "nbformat": 4,
 "nbformat_minor": 0
}
