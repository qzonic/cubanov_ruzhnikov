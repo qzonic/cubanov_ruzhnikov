{
 "cells": [
  {
   "cell_type": "markdown",
   "source": [
    "Определить в децибелах максимальный КНД (D) антенны, которая расположена в центре системы координат, приведенной на рис. 1.24, и которая имеет нормированную характеристику направленности *F(θ,φ) = const* в пределах изменения угла θ от 10 до 20° и угла φ от 0 до 360°. При других углах θ и φ функция *F(θ,φ) = 0*."
   ],
   "metadata": {
    "collapsed": false
   }
  },
  {
   "cell_type": "markdown",
   "source": [
    "![](../img/Chapter_1_example_1_picture_1.jpg)"
   ],
   "metadata": {
    "collapsed": false
   }
  },
  {
   "cell_type": "markdown",
   "source": [
    "**Решение задачи**\n",
    "Для расчета КНД воспользуемся формулой\n",
    "$D_{макс} = \\frac{4π}{\\int^{2π}_0\\int^{π}_0(F(θ,φ))^2sin(θ)dθdφ}$    (1)"
   ],
   "metadata": {
    "collapsed": false
   }
  },
  {
   "cell_type": "markdown",
   "source": [
    "Из условия задачи *F(θ,φ) = const* следует: первое — нормированная характеристика направленности не зависит от угла φ, второе — в пределах угла θ от\n",
    "10° до 20° нормированная характеристика направленности F(θ) = 1.\n",
    "С учетом этого формулу (1) можно записать в следующем виде.\n",
    "$D_{макс} = \\frac{4π}{\\int^{2π}_0\\int^{π/9}_{π/18}sin(θ)dθdφ}$    (2)"
   ],
   "metadata": {
    "collapsed": false
   }
  },
  {
   "cell_type": "code",
   "execution_count": 18,
   "outputs": [],
   "source": [
    "# Импортируем необходимые библиотеки\n",
    "import numpy\n",
    "from scipy import integrate"
   ],
   "metadata": {
    "collapsed": false
   }
  },
  {
   "cell_type": "code",
   "execution_count": 19,
   "outputs": [],
   "source": [
    "# Задаем угл тета в радианах с параметрами:\n",
    "# начальное значение - 0.01\n",
    "# конечное значение - 360\n",
    "# количество точек - 360\n",
    "TETA = numpy.linspace(0.01, 180, 360)\n",
    "# Коэффициент для перевода из радиан в градусы\n",
    "RAD2DEG = numpy.pi/180"
   ],
   "metadata": {
    "collapsed": false
   }
  },
  {
   "cell_type": "code",
   "execution_count": 20,
   "outputs": [],
   "source": [
    "# Функция integral необходима для рассчета двойного интерграл в формуле 2.\n",
    "def integral(teta, phi):\n",
    "    return numpy.array(numpy.sin(teta))"
   ],
   "metadata": {
    "collapsed": false
   }
  },
  {
   "cell_type": "markdown",
   "source": [
    "Рассчитаем максимальный КНД в пределах от 10° до 20°."
   ],
   "metadata": {
    "collapsed": false
   }
  },
  {
   "cell_type": "code",
   "execution_count": 21,
   "outputs": [
    {
     "name": "stdout",
     "output_type": "stream",
     "text": [
      "44.331023789709924\n"
     ]
    }
   ],
   "source": [
    "D = (4 * numpy.pi) / integrate.dblquad(integral, 0, 2*numpy.pi, lambda x: numpy.pi/18, lambda x: numpy.pi/9)[0]\n",
    "print(D)"
   ],
   "metadata": {
    "collapsed": false
   }
  },
  {
   "cell_type": "markdown",
   "source": [
    "Для перехода к децибельной мере КНД следует применим формулу\n",
    "$D_{дБ}=10lgD_{макс}$ (3)"
   ],
   "metadata": {
    "collapsed": false
   }
  },
  {
   "cell_type": "code",
   "execution_count": 22,
   "outputs": [
    {
     "name": "stdout",
     "output_type": "stream",
     "text": [
      "16.467077611005404\n"
     ]
    }
   ],
   "source": [
    "Ddb = 10*numpy.log10(D)\n",
    "print(Ddb)"
   ],
   "metadata": {
    "collapsed": false
   }
  }
 ],
 "metadata": {
  "kernelspec": {
   "display_name": "Python 3",
   "language": "python",
   "name": "python3"
  },
  "language_info": {
   "codemirror_mode": {
    "name": "ipython",
    "version": 2
   },
   "file_extension": ".py",
   "mimetype": "text/x-python",
   "name": "python",
   "nbconvert_exporter": "python",
   "pygments_lexer": "ipython2",
   "version": "2.7.6"
  }
 },
 "nbformat": 4,
 "nbformat_minor": 0
}
