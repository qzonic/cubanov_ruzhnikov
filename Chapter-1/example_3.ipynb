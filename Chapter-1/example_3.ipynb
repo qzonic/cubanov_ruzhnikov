{
 "cells": [
  {
   "cell_type": "markdown",
   "source": [
    "В системе координат, приведенной на рис. 1.24, ненормированная характеристика направленности некоторой антенны описывается функцией\n",
    "$f1(θ,φ) = \\frac{sin(3πsin(θ)cos(φ))}{sin(0,5πsin(θ)cos(φ))}$  (1)"
   ],
   "metadata": {
    "collapsed": false
   }
  },
  {
   "cell_type": "markdown",
   "source": [
    "![](../img/Chapter_1_example_1_picture_1.jpg)"
   ],
   "metadata": {
    "collapsed": false
   }
  },
  {
   "cell_type": "markdown",
   "source": [
    "Определить значения КНД в направлении максимального излучения и в направлении, заданном углами θ = 5°, φ = 5°."
   ],
   "metadata": {
    "collapsed": false
   }
  },
  {
   "cell_type": "code",
   "execution_count": 17,
   "outputs": [],
   "source": [
    "# Импортируем необходимые библиотеки\n",
    "import numpy\n",
    "from scipy import integrate"
   ],
   "metadata": {
    "collapsed": false
   }
  },
  {
   "cell_type": "code",
   "execution_count": 18,
   "outputs": [],
   "source": [
    "# Задаем угл тета в радианах с параметрами:\n",
    "# начальное значение - 0.01\n",
    "# конечное значение - 360\n",
    "# количество точек - 360\n",
    "TETA = numpy.linspace(0.01, 180, 360)\n",
    "# Задаем угл фи в радианах\n",
    "PHI = numpy.linspace(0.01, 360, 360)\n",
    "# Коэффициент для перевода из радиан в градусы\n",
    "RAD2DEG = numpy.pi/180\n",
    "# Зададим углы, относительно которых необходимо определить КНД\n",
    "teta1 = 5\n",
    "phi1 = 5"
   ],
   "metadata": {
    "collapsed": false
   }
  },
  {
   "cell_type": "code",
   "execution_count": 19,
   "outputs": [],
   "source": [
    "# Функция get_unnormalized_hn рассчитывает ненормированную характеристику\n",
    "# направленности в зависимости от угла teta по формуле 1.\n",
    "def get_unnormalized_hn(teta, phi):\n",
    "    return numpy.array((numpy.sin(3*numpy.pi*numpy.sin(teta)*numpy.cos(phi)))/(numpy.sin(0.5*numpy.pi*numpy.sin(teta)*numpy.cos(phi))))\n",
    "\n",
    "\n",
    "# Функция get_max_hn рассчитывает максимальное значение ненормированной характеристики направленности\n",
    "def get_max_hn(hn):\n",
    "    return numpy.max(hn)"
   ],
   "metadata": {
    "collapsed": false
   }
  },
  {
   "cell_type": "markdown",
   "source": [
    "Вычислим максимальное значение ненормированной характеристики направленности"
   ],
   "metadata": {
    "collapsed": false
   }
  },
  {
   "cell_type": "code",
   "execution_count": 20,
   "outputs": [
    {
     "name": "stdout",
     "output_type": "stream",
     "text": [
      "M = 6.0\n"
     ]
    }
   ],
   "source": [
    "M = get_max_hn(get_unnormalized_hn(RAD2DEG * TETA, RAD2DEG * PHI))\n",
    "print('M =', M)"
   ],
   "metadata": {
    "collapsed": false
   }
  },
  {
   "cell_type": "markdown",
   "source": [
    "Вычислим КНД в направлении максимального излучения по формуле\n",
    "$D1 = \\frac{4πM^2}{\\int^{2π}_0\\int^{π}_0(f1(θ,φ))^2sin(θ)dθdφ}$    (2),\n",
    "где f1(θ,φ) - это формула 1."
   ],
   "metadata": {
    "collapsed": false
   }
  },
  {
   "cell_type": "code",
   "execution_count": 21,
   "outputs": [],
   "source": [
    "# Функция integral необходима для расчета двойного интерграл в формуле 2.\n",
    "def integral(teta, phi):\n",
    "    w = get_unnormalized_hn(teta, phi)\n",
    "    return numpy.array(w*w*numpy.sin(teta))"
   ],
   "metadata": {
    "collapsed": false
   }
  },
  {
   "cell_type": "code",
   "execution_count": 22,
   "outputs": [
    {
     "name": "stdout",
     "output_type": "stream",
     "text": [
      "D1 = 6.000000000000003\n"
     ]
    }
   ],
   "source": [
    "D1 = (4 * numpy.pi * M**2) / integrate.dblquad(integral, 0, 2*numpy.pi, lambda x: 0, lambda x: numpy.pi)[0]\n",
    "print('D1 =',   D1)"
   ],
   "metadata": {
    "collapsed": false
   }
  },
  {
   "cell_type": "code",
   "execution_count": 23,
   "outputs": [],
   "source": [
    "# Функция get_normalized рассчитывает нормированную характеристику направленности\n",
    "def get_normalized(teta, phi):\n",
    "    f = get_unnormalized_hn(RAD2DEG * teta, RAD2DEG * phi)\n",
    "    return f/M"
   ],
   "metadata": {
    "collapsed": false
   }
  },
  {
   "cell_type": "markdown",
   "source": [
    "Вычислим КНД в заданном направлении θ = 5°, φ = 5°."
   ],
   "metadata": {
    "collapsed": false
   }
  },
  {
   "cell_type": "code",
   "execution_count": 24,
   "outputs": [
    {
     "name": "stdout",
     "output_type": "stream",
     "text": [
      "D2 = 4.804507949808839\n"
     ]
    }
   ],
   "source": [
    "D2 = D1*(get_normalized(teta1, phi1)) ** 2\n",
    "print('D2 =', D2)"
   ],
   "metadata": {
    "collapsed": false
   }
  }
 ],
 "metadata": {
  "kernelspec": {
   "display_name": "Python 3",
   "language": "python",
   "name": "python3"
  },
  "language_info": {
   "codemirror_mode": {
    "name": "ipython",
    "version": 2
   },
   "file_extension": ".py",
   "mimetype": "text/x-python",
   "name": "python",
   "nbconvert_exporter": "python",
   "pygments_lexer": "ipython2",
   "version": "2.7.6"
  }
 },
 "nbformat": 4,
 "nbformat_minor": 0
}
