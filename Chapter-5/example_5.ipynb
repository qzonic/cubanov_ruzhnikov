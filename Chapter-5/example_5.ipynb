{
 "cells": [
  {
   "cell_type": "markdown",
   "source": [
    "Прямоугольная поверхность, возбужденная синфазно (рис. 5.15), находится в центре системы координат и имеет размер $a = 10λ, b = 4λ$ (a – размер вдоль оси X, b – вдоль оси Y). Распределение амплитуды по оси X равномерное, а по оси Y имеет вид $f(y) = 1 − (2y⁄b)$. Рассчитать коэффициент использования поверхности ν."
   ],
   "metadata": {
    "collapsed": false
   }
  },
  {
   "cell_type": "markdown",
   "source": [
    "**Решение задачи**\n",
    "$v = (\\frac{1}{ab})\\frac{(|\\int_{\\frac{-a}{2}}^{\\frac{a}{2}}\\int_{\\frac{-b}{2}}^{\\frac{b}{2}}fa(x)fb(y)dydx|)^2}{\\int_{\\frac{-a}{2}}^{\\frac{a}{2}}\\int_{\\frac{-b}{2}}^{\\frac{b}{2}}fa(x)^2fb(y)^2dydx}$ (1)"
   ],
   "metadata": {
    "collapsed": false
   }
  },
  {
   "cell_type": "code",
   "execution_count": 45,
   "outputs": [],
   "source": [
    "# Импортируем необходимые библиотеки\n",
    "import numpy\n",
    "from scipy import integrate"
   ],
   "metadata": {
    "collapsed": false
   }
  },
  {
   "cell_type": "code",
   "execution_count": 46,
   "outputs": [],
   "source": [
    "# размеры поверхности\n",
    "a = 10\n",
    "b = 4"
   ],
   "metadata": {
    "collapsed": false
   }
  },
  {
   "cell_type": "code",
   "execution_count": 47,
   "outputs": [],
   "source": [
    "# Распределение амплитуды вдоль стороны a\n",
    "def fa(x):\n",
    "    return 1\n",
    "\n",
    "\n",
    "# Распределение амплитуды вдоль стороны b\n",
    "def fb(y):\n",
    "    return 1 - (2*y/b)"
   ],
   "metadata": {
    "collapsed": false
   }
  },
  {
   "cell_type": "code",
   "execution_count": 48,
   "outputs": [],
   "source": [
    "def integral1(x,y):\n",
    "    FA = fa(x)\n",
    "    FB = fb(y)\n",
    "    return FA * FB\n",
    "\n",
    "\n",
    "def integral2(x,y):\n",
    "    FA = fa(x)\n",
    "    FB = fb(y)\n",
    "    return FA**2 * FB**2"
   ],
   "metadata": {
    "collapsed": false
   }
  },
  {
   "cell_type": "code",
   "execution_count": 49,
   "outputs": [
    {
     "name": "stdout",
     "output_type": "stream",
     "text": [
      "0.7499999999999999\n"
     ]
    }
   ],
   "source": [
    "# Коэффициент использования поверхности\n",
    "v = (1/(a*b)) * (numpy.abs(integrate.dblquad(integral1, -b/2, b/2, -a/2, a/2)[0]))**2 /integrate.dblquad(integral2, -b/2, b/2, -a/2, a/2)[0]\n",
    "print(v)"
   ],
   "metadata": {
    "collapsed": false
   }
  }
 ],
 "metadata": {
  "kernelspec": {
   "display_name": "Python 3",
   "language": "python",
   "name": "python3"
  },
  "language_info": {
   "codemirror_mode": {
    "name": "ipython",
    "version": 2
   },
   "file_extension": ".py",
   "mimetype": "text/x-python",
   "name": "python",
   "nbconvert_exporter": "python",
   "pygments_lexer": "ipython2",
   "version": "2.7.6"
  }
 },
 "nbformat": 4,
 "nbformat_minor": 0
}
