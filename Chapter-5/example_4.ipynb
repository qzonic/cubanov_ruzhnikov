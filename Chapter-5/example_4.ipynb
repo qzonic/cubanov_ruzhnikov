{
 "cells": [
  {
   "cell_type": "markdown",
   "source": [
    "Круглая поверхность $S_0$ , возбужденная синфазно, находится в центре системы координат (рис. 5.17) и имеет радиус $R_0 = 5λ$. Распределение амплитуды возбуждающего поля вдоль радиуса $f(p) = (1 − (1 − ∆)(\\frac{p}{R_0})^2)$. Параметр распределения ∆ = 0,316. Найти значение коэффициент направленного действия в направлении максимального излучения."
   ],
   "metadata": {
    "collapsed": false
   }
  },
  {
   "cell_type": "markdown",
   "source": [
    "![](../img/Chapter_5_example_3_picture_1.png)"
   ],
   "metadata": {
    "collapsed": false
   }
  },
  {
   "cell_type": "markdown",
   "source": [
    "**Решение задачи**\n",
    "$v = (\\frac{2}{R^2})\\frac{(|\\int_0^Rf(p)pdp|)^2}{\\int_0^Rf(p)^2pdp}$ (1)"
   ],
   "metadata": {
    "collapsed": false
   }
  },
  {
   "cell_type": "code",
   "execution_count": 1,
   "outputs": [],
   "source": [
    "# Импортируем необходимые библиотеки\n",
    "import numpy\n",
    "from scipy import integrate"
   ],
   "metadata": {
    "collapsed": false
   }
  },
  {
   "cell_type": "code",
   "execution_count": 2,
   "outputs": [],
   "source": [
    "R = 5  # радиус в долях длины волны\n",
    "delta = 0.316  # параметр распределения амплитуды вдоль радиуса"
   ],
   "metadata": {
    "collapsed": false
   }
  },
  {
   "cell_type": "code",
   "execution_count": 3,
   "outputs": [],
   "source": [
    "# Закон распределения амплитуды вдоль радиуса\n",
    "def f(p):\n",
    "    return 1-(p/R)**2*(1-delta)\n",
    "\n",
    "# Функция integral1 рассчитывает интеграл в числителе формулы 1\n",
    "def integral1(p):\n",
    "    F = f(p)\n",
    "    return F * p\n",
    "\n",
    "\n",
    "# Функция integral2 рассчитывает интеграл в знаменателе формулы 1\n",
    "def integral2(p):\n",
    "    F = f(p)\n",
    "    return F**2 * p"
   ],
   "metadata": {
    "collapsed": false
   }
  },
  {
   "cell_type": "code",
   "execution_count": 4,
   "outputs": [
    {
     "name": "stdout",
     "output_type": "stream",
     "text": [
      "v = 0.9173899040580398\n"
     ]
    }
   ],
   "source": [
    "# Коэффициент использования поверхности\n",
    "v = (2/R**2) * ((numpy.abs(integrate.quad(integral1, 0, R)[0]))**2/integrate.quad(integral2, 0, R)[0])\n",
    "print('v =', v)"
   ],
   "metadata": {
    "collapsed": false
   }
  },
  {
   "cell_type": "code",
   "execution_count": 5,
   "outputs": [
    {
     "name": "stdout",
     "output_type": "stream",
     "text": [
      "D = 905.4275434606174\n"
     ]
    }
   ],
   "source": [
    "# Значение КПД\n",
    "D = 4 * numpy.pi * numpy.pi * R**2 * v\n",
    "print('D =', D)"
   ],
   "metadata": {
    "collapsed": false
   }
  },
  {
   "cell_type": "code",
   "execution_count": 6,
   "outputs": [
    {
     "name": "stdout",
     "output_type": "stream",
     "text": [
      "DdB = 29.56853701768481\n"
     ]
    }
   ],
   "source": [
    "# Значение КПД в децибелах\n",
    "DdB = 10 * numpy.log10(D)\n",
    "print('DdB =', DdB)"
   ],
   "metadata": {
    "collapsed": false
   }
  }
 ],
 "metadata": {
  "kernelspec": {
   "display_name": "Python 3",
   "language": "python",
   "name": "python3"
  },
  "language_info": {
   "codemirror_mode": {
    "name": "ipython",
    "version": 2
   },
   "file_extension": ".py",
   "mimetype": "text/x-python",
   "name": "python",
   "nbconvert_exporter": "python",
   "pygments_lexer": "ipython2",
   "version": "2.7.6"
  }
 },
 "nbformat": 4,
 "nbformat_minor": 0
}
