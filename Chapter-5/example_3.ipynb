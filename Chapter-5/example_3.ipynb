{
 "cells": [
  {
   "cell_type": "markdown",
   "source": [
    "Круглая поверхность, возбужденная синфазно, находится в центре системы координат (рис. 5.17) и имеет радиус $R_0 = 5λ$. Распределение амплитуды возбуждающего поля вдоль радиуса $f(p) = (1 - (1 - ∆) [1 − (1 − ∆)(\\frac{p}{R_0})^2)$. Параметр распределения ∆ = 0,316. Рассчитать нормированную амплитудную характеристику направленности возбужденной поверхности в плоскости ZOY в пределах −20°,...,20°и построить её диаграмму в прямоугольной системе координат с линейным и логарифмическим масштабом по оси ординат."
   ],
   "metadata": {
    "collapsed": false
   }
  },
  {
   "cell_type": "markdown",
   "source": [
    "**Решение задачи**\n",
    "Для расчета нормированной амплитудной характеристики направленности в любой плоскости, проходящей через ось Z, в том числе и в плоскости ZOY, воспользуемся следующей формулой:"
   ],
   "metadata": {
    "collapsed": false
   }
  },
  {
   "cell_type": "markdown",
   "source": [
    "$F(θ) = |\\frac{(1 + cos(θ)) * 2∆(J_1(kR_0sin(θ)))}{f(θ_{гл})kR_0sin(θ)} + \\frac{4(1 - ∆)(J_1(kR_0sin(θ)))}{(kR_0sin(θ))^2}|$ (1)"
   ],
   "metadata": {
    "collapsed": false
   }
  },
  {
   "cell_type": "code",
   "execution_count": 14,
   "outputs": [],
   "source": [
    "# Импортируем необходимые библиотеки\n",
    "import numpy\n",
    "from scipy.special import j1, jn"
   ],
   "metadata": {
    "collapsed": false
   }
  },
  {
   "cell_type": "code",
   "execution_count": 15,
   "outputs": [],
   "source": [
    "R = 5\n",
    "delta = 0.316\n",
    "# Задаем угл тета в градусах с параметрами:\n",
    "# начальное значение - 0.01\n",
    "# конечное значение - 360\n",
    "# количество точек - 360\n",
    "TETA = (numpy.pi/(5*360))*numpy.linspace(0.01, 360, 360)"
   ],
   "metadata": {
    "collapsed": false
   }
  },
  {
   "cell_type": "code",
   "execution_count": 16,
   "outputs": [],
   "source": [
    "def get_unnormalized_hn(teta):\n",
    "    return numpy.array(\n",
    "        ((2*delta*j1(R*2*numpy.pi*numpy.sin(teta))*(1+numpy.cos(teta)))/(R*2*numpy.pi*numpy.sin(teta))) +\n",
    "        ((4*(1-delta)*jn(2, R*2*numpy.pi*numpy.sin(teta))*(1-numpy.cos(teta)))/((R*2*numpy.pi*numpy.sin(teta))**2))\n",
    "    )\n",
    "\n",
    "\n",
    "# Функция get_max_hn рассчитывает максимальное значение ненормированной характеристики направленности\n",
    "def get_max_hn(hn):\n",
    "    return numpy.max(hn)"
   ],
   "metadata": {
    "collapsed": false
   }
  },
  {
   "cell_type": "code",
   "execution_count": 17,
   "outputs": [
    {
     "name": "stdout",
     "output_type": "stream",
     "text": [
      "0.6317625598217168\n"
     ]
    }
   ],
   "source": [
    "F = get_unnormalized_hn(TETA)\n",
    "print(get_max_hn(F))"
   ],
   "metadata": {
    "collapsed": false
   }
  },
  {
   "cell_type": "code",
   "execution_count": null,
   "outputs": [],
   "source": [],
   "metadata": {
    "collapsed": false
   }
  }
 ],
 "metadata": {
  "kernelspec": {
   "display_name": "Python 3",
   "language": "python",
   "name": "python3"
  },
  "language_info": {
   "codemirror_mode": {
    "name": "ipython",
    "version": 2
   },
   "file_extension": ".py",
   "mimetype": "text/x-python",
   "name": "python",
   "nbconvert_exporter": "python",
   "pygments_lexer": "ipython2",
   "version": "2.7.6"
  }
 },
 "nbformat": 4,
 "nbformat_minor": 0
}
