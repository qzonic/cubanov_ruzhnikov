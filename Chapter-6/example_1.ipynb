{
 "cells": [
  {
   "cell_type": "markdown",
   "source": [
    "Для линии радиосвязи Земля / космический аппарат определить: предельное расстояние r, на котором земная станция будет принимать сигналы космического аппарата, основные потери при передаче в свободном пространстве $L_{0СВ}$ и потери при передаче в свободном пространстве $L_{СВ}$. Исходные условия: мощность передатчика на космическом аппарате 3 Вт, длина волны передатчика 10 см; коэффициент полезного действия фидера передающей антенны 1,0; коэффициент усиления передающей антенны на борту космического аппарата 1,0 дБ; коэффициент усиления антенны приемной станции на Земле 56 дБ; коэффициент полезного действия фидера приемной антенны 1,0; минимальная мощность, которая регистрируется приемником земной станции, $10^{−14}$Вт."
   ],
   "metadata": {
    "collapsed": false
   }
  },
  {
   "cell_type": "markdown",
   "source": [
    "**Решение задачи**\n",
    "Воспользуемся формулой:\n",
    "$P_2=\\frac{P_1η_1η_2G_1G_2λ^2}{(4πr)^2}$ (1)\n",
    "Из формулы (1) найдем r:\n",
    "$r = \\sqrt{\\frac{P_1η_1η_2G_1G_2λ^2}{16π^2P_2}}$ (2)"
   ],
   "metadata": {
    "collapsed": false
   }
  },
  {
   "cell_type": "markdown",
   "source": [
    "В эту формулу значения коэффициентов усиления нельзя подставлять в децибелах – следует перейти к безразмерным величинам:\n",
    "$G_1=10^{\\frac{G_1}{10}}=1,259$\n",
    "$G_2=10^{\\frac{G_2}{10}}=3,981*10^5$"
   ],
   "metadata": {
    "collapsed": false
   }
  },
  {
   "cell_type": "code",
   "execution_count": 104,
   "outputs": [],
   "source": [
    "# Импортируем необходимые библиотеки\n",
    "import math"
   ],
   "metadata": {
    "collapsed": false
   }
  },
  {
   "cell_type": "code",
   "execution_count": 105,
   "outputs": [
    {
     "name": "stdout",
     "output_type": "stream",
     "text": [
      "1e-14\n"
     ]
    }
   ],
   "source": [
    "P1 = 3  # мощность передатчика на космическом аппарате в Вт\n",
    "P2 = 10**(-14)  # минимальная мощность, которая регистрируется приемником земной станции в Вт\n",
    "print(P2)\n",
    "n1 = 1  # коэффициент полезного действия фидера передающей антенны\n",
    "n2 = 1  # коэффициент полезного действия фидера приемной антенны\n",
    "G1dB = 1  # коэффициент усиления передающей антенны на борту космического аппарата в дБ\n",
    "G2dB = 56  # коэффициент усиления антенны приемной станции на Земле в дБ\n",
    "lam = 0.1  # длина волны передатчика в метрах"
   ],
   "metadata": {
    "collapsed": false
   }
  },
  {
   "cell_type": "code",
   "execution_count": 106,
   "outputs": [
    {
     "name": "stdout",
     "output_type": "stream",
     "text": [
      "1.2589254117941673 398107.1705534969\n"
     ]
    }
   ],
   "source": [
    "G1 = 10**(G1dB/10)  #  коэффициентов усиления в безразмерной величине\n",
    "G2 = 10**(G2dB/10)  # #  коэффициентов усиления в безразмерной величине\n",
    "print(G1, G2)"
   ],
   "metadata": {
    "collapsed": false
   }
  },
  {
   "cell_type": "code",
   "execution_count": 107,
   "outputs": [
    {
     "name": "stdout",
     "output_type": "stream",
     "text": [
      "97577741.8307552\n"
     ]
    }
   ],
   "source": [
    "# рассчитываем расстояние r по формуле 2\n",
    "r = math.sqrt((P1*n1*n2*G1*G2*lam**2)/(16*math.pi**2*P2))\n",
    "print(r)"
   ],
   "metadata": {
    "collapsed": false
   }
  },
  {
   "cell_type": "markdown",
   "source": [
    "Основные потери при передаче в свободном пространстве $L_{0СВ}$ вычислим, воспользовавшись формулой 3:\n",
    "$L_{0СВ},дБ=10lg(L_{0СВ})=20lg(\\frac{4πr}{λ})$ (3)"
   ],
   "metadata": {
    "collapsed": false
   }
  },
  {
   "cell_type": "code",
   "execution_count": 108,
   "outputs": [
    {
     "name": "stdout",
     "output_type": "stream",
     "text": [
      "201.77121254719663\n"
     ]
    }
   ],
   "source": [
    "L0 = 20 * math.log10(4*math.pi*r/lam)\n",
    "print(L0)"
   ],
   "metadata": {
    "collapsed": false
   }
  },
  {
   "cell_type": "markdown",
   "source": [
    "Потери при передаче в свободном пространстве $L_{СВ}$ вычислим, воспользовавшись формулой:\n",
    "$L_{СВ}=20lg(\\frac{4πr}{λ}) - 10lg(G_1) - 10lg(G_2)$ (4)"
   ],
   "metadata": {
    "collapsed": false
   }
  },
  {
   "cell_type": "code",
   "execution_count": 109,
   "outputs": [
    {
     "name": "stdout",
     "output_type": "stream",
     "text": [
      "144.77121254719663\n"
     ]
    }
   ],
   "source": [
    "L = 20*math.log10(4*math.pi*r/lam) - 10*math.log10(G1) - 10*math.log10(G2)\n",
    "print(L)"
   ],
   "metadata": {
    "collapsed": false
   }
  }
 ],
 "metadata": {
  "kernelspec": {
   "display_name": "Python 3",
   "language": "python",
   "name": "python3"
  },
  "language_info": {
   "codemirror_mode": {
    "name": "ipython",
    "version": 2
   },
   "file_extension": ".py",
   "mimetype": "text/x-python",
   "name": "python",
   "nbconvert_exporter": "python",
   "pygments_lexer": "ipython2",
   "version": "2.7.6"
  }
 },
 "nbformat": 4,
 "nbformat_minor": 0
}
