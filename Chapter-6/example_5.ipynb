{
 "cells": [
  {
   "cell_type": "markdown",
   "source": [
    "Определить с какой вероятностью будет превышаться пороговый уровень действующего значения напряженности поля $E_п = 80$ дБ/мкВ/м в условиях медленных замираний, если медианное значение уровня поля $E_M = 93,98$ дБ/мкВ/м, а стандартное отклонение $σ = 6$ дБ."
   ],
   "metadata": {
    "collapsed": false
   }
  },
  {
   "cell_type": "markdown",
   "source": [
    "**Решение задачи**"
   ],
   "metadata": {
    "collapsed": false
   }
  },
  {
   "cell_type": "markdown",
   "source": [
    "Медленные замирания аппроксимируются логарифмически нормальной функцией распределения:\n",
    "$P(E > E_п) = 0,5 - 0,5erf(\\frac{x}{\\sqrt{2}})$, (1)\n",
    "где\n",
    "$erf(\\frac{x}{\\sqrt{2}})=\\frac{2}{\\sqrt{π}}\\int_0^\\frac{x}{\\sqrt{2}}exp(-t^2)dt$ (2)"
   ],
   "metadata": {
    "collapsed": false
   }
  },
  {
   "cell_type": "markdown",
   "source": [
    "Значение x, входящее в верхний предел интеграла найдем по формуле (3):\n",
    "$x=20\\frac{lg(E_п) - lg(E_M)}{σ}$ (3)"
   ],
   "metadata": {
    "collapsed": false
   }
  },
  {
   "cell_type": "code",
   "execution_count": 16,
   "outputs": [],
   "source": [
    "# Импортируем необходимые библиотеки\n",
    "import math"
   ],
   "metadata": {
    "collapsed": false
   }
  },
  {
   "cell_type": "code",
   "execution_count": 17,
   "outputs": [],
   "source": [
    "EP = 80  # пороговый уровень действующего значения напряженности поля\n",
    "EM = 93.98  # медианное значение уровня поля\n",
    "sigma = 6  # стандартное отклонение"
   ],
   "metadata": {
    "collapsed": false
   }
  },
  {
   "cell_type": "code",
   "execution_count": 18,
   "outputs": [
    {
     "name": "stdout",
     "output_type": "stream",
     "text": [
      "-0.23315151231663167\n",
      "0.5921781220745014\n"
     ]
    }
   ],
   "source": [
    "x = 20 * ((math.log10(EP) - math.log10(EM))/sigma)\n",
    "print(x)\n",
    "P = 0.5 - 0.5 * math.erf(x/math.sqrt(2))\n",
    "print(P)"
   ],
   "metadata": {
    "collapsed": false
   }
  }
 ],
 "metadata": {
  "kernelspec": {
   "display_name": "Python 3",
   "language": "python",
   "name": "python3"
  },
  "language_info": {
   "codemirror_mode": {
    "name": "ipython",
    "version": 2
   },
   "file_extension": ".py",
   "mimetype": "text/x-python",
   "name": "python",
   "nbconvert_exporter": "python",
   "pygments_lexer": "ipython2",
   "version": "2.7.6"
  }
 },
 "nbformat": 4,
 "nbformat_minor": 0
}
