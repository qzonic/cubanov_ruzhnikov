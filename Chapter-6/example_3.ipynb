{
 "cells": [
  {
   "cell_type": "markdown",
   "source": [
    "Рассчитать предельное расстояние прямой видимости при следующих исходных данных: высота подвеса передающей антенны 90 м, высота подвеса приемной антенны 60 м, тропосфера характеризуется вертикальным градиентом диэлектрической проницаемости «стандартной радиоатмосферы»."
   ],
   "metadata": {
    "collapsed": false
   }
  },
  {
   "cell_type": "markdown",
   "source": [
    "**Решение задачи**\n",
    "$r_{ПР}=\\sqrt{\\frac{2a_{зм}}{1+a_{зм}*\\frac{g^T}{2}}}(\\sqrt{h_1}+\\sqrt{h_2})$ (1)"
   ],
   "metadata": {
    "collapsed": false
   }
  },
  {
   "cell_type": "code",
   "execution_count": 4,
   "outputs": [],
   "source": [
    "# Импортируем необходимые библиотеки\n",
    "import math"
   ],
   "metadata": {
    "collapsed": false
   }
  },
  {
   "cell_type": "code",
   "execution_count": 5,
   "outputs": [],
   "source": [
    "azm = 6370000  # Радиус Земли\n",
    "# высоты антенн\n",
    "h1 = 90\n",
    "h2 = 60\n",
    "gT = -7.85*10**(-8)  # вертикальный градиент диэлектрической проницаемости"
   ],
   "metadata": {
    "collapsed": false
   }
  },
  {
   "cell_type": "code",
   "execution_count": 6,
   "outputs": [
    {
     "name": "stdout",
     "output_type": "stream",
     "text": [
      "71025.84942106075\n"
     ]
    }
   ],
   "source": [
    "# предельное расстояние прямой видимости с учетом рефракции - формула 1\n",
    "rpr = math.sqrt((2*azm)/(1+azm*gT/2))*(math.sqrt(h1)+math.sqrt(h2))\n",
    "print(rpr)"
   ],
   "metadata": {
    "collapsed": false
   }
  }
 ],
 "metadata": {
  "kernelspec": {
   "display_name": "Python 3",
   "language": "python",
   "name": "python3"
  },
  "language_info": {
   "codemirror_mode": {
    "name": "ipython",
    "version": 2
   },
   "file_extension": ".py",
   "mimetype": "text/x-python",
   "name": "python",
   "nbconvert_exporter": "python",
   "pygments_lexer": "ipython2",
   "version": "2.7.6"
  }
 },
 "nbformat": 4,
 "nbformat_minor": 0
}
