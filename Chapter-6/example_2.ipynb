{
 "cells": [
  {
   "cell_type": "markdown",
   "source": [
    "Радиолиния использует земную волну. Модель распространения радиоволн – двухлучевая, поляризация – горизонтальная. Технические характеристики: коэффициент усиления передающей антенны 8 дБ, мощность на входе передающей антенны 12 Вт, длина волны 30 см, высота подвеса передающей антенны 60 м, приемной – 20 м, расстояние между антеннами 8 км. Параметры почвы: $ε = 4, σ = 0,001$ См/м. Рассчитать: амплитуду напряженности\n",
    "поля E в точке приема."
   ],
   "metadata": {
    "collapsed": false
   }
  },
  {
   "cell_type": "code",
   "execution_count": 202,
   "outputs": [],
   "source": [
    "# Импортируем необходимые библиотеки\n",
    "import math\n",
    "import cmath"
   ],
   "metadata": {
    "collapsed": false
   }
  },
  {
   "cell_type": "code",
   "execution_count": 203,
   "outputs": [],
   "source": [
    "lam = 0.3  # длина волны в метрах\n",
    "h1 = 60  # высота подвеса передающей антенны\n",
    "h2 = 20  # высота подвеса приемной антенны\n",
    "r = 8000  # расстояние между антеннами в метрах\n",
    "G = 8  # коэффициент усиления передающей антенны\n",
    "k = 2*math.pi/lam\n",
    "P = 12\n",
    "teta = math.pi\n",
    "epsilon = 4\n",
    "sigma = 0.001"
   ],
   "metadata": {
    "collapsed": false
   }
  },
  {
   "cell_type": "markdown",
   "source": [
    "**Решение задачи**\n",
    "Постановка задачи представлена на рис. 6.34. Поскольку длина волны $λ = 0,3 м, h_1 = 60 м, h2 = 20$ м, то выполняются условия «высоко поднятых антенн»: $h_1 >> λ, h_2 >> λ$.\n",
    "Рассчитаем предельное расстояние прямой видимости по формуле (1):\n",
    "![](../img/Chapter_6_example_1_picture_1.png)\n",
    "$r_{ПР}=3,57(\\sqrt{h_1}+\\sqrt{h_2})$ (1)"
   ],
   "metadata": {
    "collapsed": false
   }
  },
  {
   "cell_type": "code",
   "execution_count": 204,
   "outputs": [
    {
     "name": "stdout",
     "output_type": "stream",
     "text": [
      "43.618626451269456\n"
     ]
    }
   ],
   "source": [
    "rpr = 3.57*(math.sqrt(h1) + math.sqrt(h2))\n",
    "print(rpr)"
   ],
   "metadata": {
    "collapsed": false
   }
  },
  {
   "cell_type": "markdown",
   "source": [
    "Определим отношение длины радиолинии r к расстоянию прямой видимости $r_{ПР}$,то есть $\\frac{r}{r_{ПР}}=\\frac{8}{43,6}=0,183$.Найденное отношение удовлетворяет условию $r<0,2r_{ПР}$ , при котором земную поверхность можно считать плоской, то есть не учитывать сферичность Земли.\n",
    "Комплексная амплитуда напряженности электрического поля в точке приема определяется формулой (2):\n",
    "$E_m=E^{ПР}_m+E^{ОТР}_m=\\frac{\\sqrt{60PG}}{r}(1+Re^{-j(k∆r-θ)})e^{-jkr}$, (2)"
   ],
   "metadata": {
    "collapsed": false
   }
  },
  {
   "cell_type": "markdown",
   "source": [
    "где:\n",
    "$∆r=\\frac{2h_1h_2}{r}$; (3)\n",
    "$R = \\frac{(sin(γ)-\\sqrt{ε̃-(cos(γ))^2})}{(sin(γ)+\\sqrt{ε̃-(cos(γ))^2})}$; (4)\n",
    "$ε̃ = ε-j60λσ$; (5)\n",
    "$γ=arctg(\\frac{h_1+h_2}{r})$; (6)"
   ],
   "metadata": {
    "collapsed": false
   }
  },
  {
   "cell_type": "markdown",
   "source": [
    "В формулу (2) коэффициент усиления G нельзя подставлять в децибелах\n",
    "– следует перейти к безразмерному представлению:\n",
    "$G=10^{\\frac{G}{10}}$ (7)"
   ],
   "metadata": {
    "collapsed": false
   }
  },
  {
   "cell_type": "code",
   "execution_count": 205,
   "outputs": [
    {
     "name": "stdout",
     "output_type": "stream",
     "text": [
      "0.3\n"
     ]
    }
   ],
   "source": [
    "delta_r = (2*h1*h2)/r\n",
    "print(delta_r)# формула 3"
   ],
   "metadata": {
    "collapsed": false
   }
  },
  {
   "cell_type": "code",
   "execution_count": 206,
   "outputs": [
    {
     "name": "stdout",
     "output_type": "stream",
     "text": [
      "(4-0.018j)\n"
     ]
    }
   ],
   "source": [
    "epsilon_ = epsilon - sigma*lam*60j  # формула 5\n",
    "print(epsilon_)"
   ],
   "metadata": {
    "collapsed": false
   }
  },
  {
   "cell_type": "code",
   "execution_count": 207,
   "outputs": [
    {
     "name": "stdout",
     "output_type": "stream",
     "text": [
      "0.009999666686665238\n"
     ]
    }
   ],
   "source": [
    "gamma = math.atan((h1+h2)/r)  # формула 6\n",
    "print(gamma)"
   ],
   "metadata": {
    "collapsed": false
   }
  },
  {
   "cell_type": "code",
   "execution_count": 208,
   "outputs": [
    {
     "name": "stdout",
     "output_type": "stream",
     "text": [
      "(-0.9885201929902245+3.4240290938774744e-05j)\n"
     ]
    }
   ],
   "source": [
    "R = (math.sin(gamma) - cmath.sqrt(epsilon_ - math.cos(gamma)**2))/(math.sin(gamma) + cmath.sqrt(epsilon_ - math.cos(gamma)**2))\n",
    "print(R)"
   ],
   "metadata": {
    "collapsed": false
   }
  },
  {
   "cell_type": "code",
   "execution_count": 209,
   "outputs": [
    {
     "name": "stdout",
     "output_type": "stream",
     "text": [
      "6.309573444801933\n"
     ]
    }
   ],
   "source": [
    "G = 10**(G/10)\n",
    "print(G)"
   ],
   "metadata": {
    "collapsed": false
   }
  },
  {
   "cell_type": "code",
   "execution_count": 210,
   "outputs": [
    {
     "name": "stdout",
     "output_type": "stream",
     "text": [
      "9.671878359065371e-05\n"
     ]
    }
   ],
   "source": [
    "Em = (math.sqrt(60*P*G)/r)*abs(1+abs(R)*cmath.e**(-1j*(k*delta_r - teta)))\n",
    "print(Em)"
   ],
   "metadata": {
    "collapsed": false
   }
  }
 ],
 "metadata": {
  "kernelspec": {
   "display_name": "Python 3",
   "language": "python",
   "name": "python3"
  },
  "language_info": {
   "codemirror_mode": {
    "name": "ipython",
    "version": 2
   },
   "file_extension": ".py",
   "mimetype": "text/x-python",
   "name": "python",
   "nbconvert_exporter": "python",
   "pygments_lexer": "ipython2",
   "version": "2.7.6"
  }
 },
 "nbformat": 4,
 "nbformat_minor": 0
}
