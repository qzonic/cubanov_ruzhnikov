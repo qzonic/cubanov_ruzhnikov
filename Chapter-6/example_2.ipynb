{
 "cells": [
  {
   "cell_type": "markdown",
   "source": [
    "Радиолиния использует земную волну. Модель распространения радиоволн – двухлучевая, поляризация – горизонтальная. Технические характеристики: коэффициент усиления передающей антенны 8 дБ, мощность на входе передающей антенны 12 Вт, длина волны 30 см, высота подвеса передаю- щей антенны 60 м, приемной – 20 м, расстояние между антеннами 8 км. Параметры почвы: $ε = 4, σ = 0,001$ См/м. Рассчитать: амплитуду напряженности\n",
    "поля E в точке приема."
   ],
   "metadata": {
    "collapsed": false
   }
  },
  {
   "cell_type": "code",
   "execution_count": 109,
   "outputs": [],
   "source": [
    "# Импортируем необходимые библиотеки\n",
    "import math"
   ],
   "metadata": {
    "collapsed": false
   }
  },
  {
   "cell_type": "code",
   "execution_count": 110,
   "outputs": [],
   "source": [
    "lam = 0.3  # длина волны в метрах\n",
    "h1 = 60  # высота подвеса передающей антенны\n",
    "h2 = 20  # высота подвеса приемной антенны\n",
    "r = 8000  # расстояние между антеннами в метрах\n",
    "G = 8  # коэффициент усиления передающей антенны\n",
    "k = 2*math.pi/lam\n",
    "P = 12\n",
    "teta = math.pi\n",
    "epsilon = 4\n",
    "sigma = 0.001"
   ],
   "metadata": {
    "collapsed": false
   }
  },
  {
   "cell_type": "markdown",
   "source": [
    "**Решение задачи**\n",
    "Постановка задачи представлена на рис. 6.34. Поскольку длина волны $λ = 0,3 м, h_1 = 60 м, h2 = 20$ м, то выполняются условия «высоко поднятых антенн»: $h_1 >> λ, h_2 >> λ$.\n",
    "Рассчитаем предельное расстояние прямой видимости по формуле (1):\n",
    "![](../img/Chapter_6_example_1_picture_1.png)\n",
    "$r_{ПР}=3,57(\\sqrt{h_1}+\\sqrt{h_2})$ (1)"
   ],
   "metadata": {
    "collapsed": false
   }
  },
  {
   "cell_type": "code",
   "execution_count": 111,
   "outputs": [
    {
     "name": "stdout",
     "output_type": "stream",
     "text": [
      "43.618626451269456\n"
     ]
    }
   ],
   "source": [
    "rpr = 3.57*(math.sqrt(h1) + math.sqrt(h2))\n",
    "print(rpr)"
   ],
   "metadata": {
    "collapsed": false
   }
  },
  {
   "cell_type": "markdown",
   "source": [
    "Определим отношение длины радиолинии r к расстоянию прямой видимости $r_{ПР}$,то есть $\\frac{r}{r_{ПР}}=\\frac{8}{43,6}=0,183$.Найденное отношение удовлетворяет условию $r<0,2r_{ПР}$ , при котором земную поверхность можно считать плоской, то есть не учитывать сферичность Земли.\n",
    "Комплексная амплитуда напряженности электрического поля в точке приема определяется формулой (2):\n",
    "$E_m=E^{ПР}_m+E^{ОТР}_m=\\frac{\\sqrt{60PG}}{r}(1+Re^{-j(k∆r-θ)})e^{-jkr}$, (2)"
   ],
   "metadata": {
    "collapsed": false
   }
  },
  {
   "cell_type": "markdown",
   "source": [
    "где:\n",
    "$∆r=\\frac{2h_1h_2}{r}$; (3)\n",
    "$R = \\frac{(sin(γ)-\\sqrt{ε̃-(cos(γ))^2})}{(sin(γ)+\\sqrt{ε̃-(cos(γ))^2})}$; (4)\n",
    "$ε̃ = ε-j60λσ$; (5)\n",
    "$γ=arctg(\\frac{h_1+h_2}{r})$; (6)"
   ],
   "metadata": {
    "collapsed": false
   }
  },
  {
   "cell_type": "markdown",
   "source": [
    "В формулу (2) коэффициент усиления G нельзя подставлять в децибелах\n",
    "– следует перейти к безразмерному представлению:\n",
    "$G=10^{\\frac{G}{10}}$ (7)"
   ],
   "metadata": {
    "collapsed": false
   }
  },
  {
   "cell_type": "code",
   "execution_count": 112,
   "outputs": [
    {
     "name": "stdout",
     "output_type": "stream",
     "text": [
      "-0.9885200395042232\n",
      "0.008785200896619307\n"
     ]
    }
   ],
   "source": [
    "delta_r = (2*h1*h2)/r  # формула 3\n",
    "epsilon_ = epsilon - sigma*lam*60j  # формула 5\n",
    "gamma = math.atan((h1+h2)/r)  # формула 6\n",
    "R = (math.sin(gamma) - math.sqrt(epsilon - math.cos(gamma)**2))/(math.sin(gamma) + math.sqrt(epsilon - math.cos(gamma)**2))\n",
    "print(R)\n",
    "G = 10**(G/10)\n",
    "Em = (math.sqrt(60*P*G)/r)*abs(1+0.989*math.e**(-1j*k*delta_r - teta))\n",
    "print(Em)"
   ],
   "metadata": {
    "collapsed": false
   }
  }
 ],
 "metadata": {
  "kernelspec": {
   "display_name": "Python 3",
   "language": "python",
   "name": "python3"
  },
  "language_info": {
   "codemirror_mode": {
    "name": "ipython",
    "version": 2
   },
   "file_extension": ".py",
   "mimetype": "text/x-python",
   "name": "python",
   "nbconvert_exporter": "python",
   "pygments_lexer": "ipython2",
   "version": "2.7.6"
  }
 },
 "nbformat": 4,
 "nbformat_minor": 0
}
