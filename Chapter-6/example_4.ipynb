{
 "cells": [
  {
   "cell_type": "markdown",
   "source": [
    "Линия радиосвязи на частоте 20 ГГц обеспечивает связь на расстоянии 15 км при отсутствии осадков в виде дождя. Определить максимальное расстояние, при котором сохранится прежний уровень сигнала в условиях дождя с интенсивностью 20 мм/час."
   ],
   "metadata": {
    "collapsed": false
   }
  },
  {
   "cell_type": "markdown",
   "source": [
    "**Решение задачи**\n",
    "$E=\\frac{\\sqrt{60PG}}{r}*10^{-\\frac{γ_дl_д}{20}}$, (1)\n",
    "где:\n",
    "$γ_д=kl^α_д$; (2)\n",
    "$l_д=r_{эд}=k_rr$; (3)"
   ],
   "metadata": {
    "collapsed": false
   }
  },
  {
   "cell_type": "markdown",
   "source": [
    "Множитель ослабления в дожде:\n",
    "$V_д=10^{-\\frac{γ_дl_д}{20}}$ (4)"
   ],
   "metadata": {
    "collapsed": false
   }
  },
  {
   "cell_type": "markdown",
   "source": [
    "При отсутствии дождя амплитуда напряженности поля:\n",
    "$E_0=\\frac{\\sqrt{60PG}}{r}$ (5)"
   ],
   "metadata": {
    "collapsed": false
   }
  },
  {
   "cell_type": "markdown",
   "source": [
    "$E_д=\\frac{\\sqrt{60PG}}{r_1}*V_д$ (6)"
   ],
   "metadata": {
    "collapsed": false
   }
  },
  {
   "cell_type": "markdown",
   "source": [
    "По условию задачи $E_0 = E_д$. Приравняв (5) и (6), получим:\n",
    "$r_1=r*V_д$ (7)"
   ],
   "metadata": {
    "collapsed": false
   }
  },
  {
   "cell_type": "code",
   "execution_count": 1,
   "outputs": [],
   "source": [
    "# Значения коэффициентов находим в табл. 6.2\n",
    "k = 0.094\n",
    "alpha = 1.018\n",
    "kr = 0.634  # коэффициент, найденный по таблице 6.3\n",
    "I = 20  # частота в ГГц\n",
    "r = 15  # расстояние в км"
   ],
   "metadata": {
    "collapsed": false
   }
  },
  {
   "cell_type": "code",
   "execution_count": 2,
   "outputs": [
    {
     "name": "stdout",
     "output_type": "stream",
     "text": [
      "gamma_d = 1.9841586249647085\n"
     ]
    }
   ],
   "source": [
    "gamma_d = k * I**(alpha)  # формула 2\n",
    "print('gamma_d =', gamma_d)"
   ],
   "metadata": {
    "collapsed": false
   }
  },
  {
   "cell_type": "code",
   "execution_count": 3,
   "outputs": [
    {
     "name": "stdout",
     "output_type": "stream",
     "text": [
      "ld = 9.51\n"
     ]
    }
   ],
   "source": [
    "ld = kr * r  # формула 3\n",
    "print('ld =', ld)"
   ],
   "metadata": {
    "collapsed": false
   }
  },
  {
   "cell_type": "code",
   "execution_count": 4,
   "outputs": [
    {
     "name": "stdout",
     "output_type": "stream",
     "text": [
      "Vd = 0.11390232099844157\n"
     ]
    }
   ],
   "source": [
    "Vd = 10**(-gamma_d*ld/20)  # формула 4\n",
    "print('Vd =', Vd)"
   ],
   "metadata": {
    "collapsed": false
   }
  },
  {
   "cell_type": "code",
   "execution_count": 5,
   "outputs": [
    {
     "name": "stdout",
     "output_type": "stream",
     "text": [
      "r1 = 1.7085348149766235\n"
     ]
    }
   ],
   "source": [
    "r1 = r * Vd  # формула 7\n",
    "print('r1 =', r1)"
   ],
   "metadata": {
    "collapsed": false
   }
  }
 ],
 "metadata": {
  "kernelspec": {
   "display_name": "Python 3",
   "language": "python",
   "name": "python3"
  },
  "language_info": {
   "codemirror_mode": {
    "name": "ipython",
    "version": 2
   },
   "file_extension": ".py",
   "mimetype": "text/x-python",
   "name": "python",
   "nbconvert_exporter": "python",
   "pygments_lexer": "ipython2",
   "version": "2.7.6"
  }
 },
 "nbformat": 4,
 "nbformat_minor": 0
}
