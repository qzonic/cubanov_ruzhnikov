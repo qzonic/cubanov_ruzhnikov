{
 "cells": [
  {
   "cell_type": "markdown",
   "source": [
    "Рассчитать методом Окамура-Хата требуемое значение эффективной излучаемой мощности для обеспечения медианного уровня действующей напряженности электрического поля 28,169 дБ/мкВ/м в условиях города. Расстояние между базовой и мобильной станциями 20 км. Рабочая частота 900 МГц. Высота подвеса антенны базовой станции – 50 м. Высота расположения антенны мобильной станции 1,5 м."
   ],
   "metadata": {
    "collapsed": false
   }
  },
  {
   "cell_type": "code",
   "execution_count": 7,
   "outputs": [],
   "source": [
    "# Импортируем необходимые библиотеки\n",
    "import math"
   ],
   "metadata": {
    "collapsed": false
   }
  },
  {
   "cell_type": "code",
   "execution_count": 8,
   "outputs": [],
   "source": [
    "E = 28.169  # требуемое медианное значение уровня действующей напряженности электрического поля;\n",
    "r = 20  # Расстояние между базовой и мобильной станциями в км\n",
    "f = 900  # Рабочая частота в МГц\n",
    "hbc = 50  # Высота подвеса антенны базовой станции\n",
    "hmc = 1.5  # Высота расположения антенны мобильной станции"
   ],
   "metadata": {
    "collapsed": false
   }
  },
  {
   "cell_type": "code",
   "execution_count": 9,
   "outputs": [
    {
     "name": "stdout",
     "output_type": "stream",
     "text": [
      "a = 0.015881825849539677\n",
      "P = 26.98954173788254\n"
     ]
    }
   ],
   "source": [
    "a = (1.1*math.log10(f) - 0.7)*hmc - (1.56*math.log10(f) - 0.8)  # формула 2\n",
    "print('a =', a)\n",
    "P = E - 39.82 + 6.16*math.log10(f) - 13.82*math.log10(hbc) - a + (44.9 - 6.55*math.log10(hbc))*math.log10(r)\n",
    "print('P =', P)"
   ],
   "metadata": {
    "collapsed": false
   }
  }
 ],
 "metadata": {
  "kernelspec": {
   "display_name": "Python 3",
   "language": "python",
   "name": "python3"
  },
  "language_info": {
   "codemirror_mode": {
    "name": "ipython",
    "version": 2
   },
   "file_extension": ".py",
   "mimetype": "text/x-python",
   "name": "python",
   "nbconvert_exporter": "python",
   "pygments_lexer": "ipython2",
   "version": "2.7.6"
  }
 },
 "nbformat": 4,
 "nbformat_minor": 0
}
