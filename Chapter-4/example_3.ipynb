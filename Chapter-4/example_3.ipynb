{
 "cells": [
  {
   "cell_type": "markdown",
   "source": [
    "Плоская синфазная антенная решетка, состоящая из полуволновых линейных симметричных вибраторов (рис. 4.20), возбуждена токами равных амплитуд. Для условий: $n_1 = 4$, $n_2 = 6$ , $d_1 = 0,25λ$ , $d_2 = 0,5λ$ рассчитать максимальное значение коэффициента направленного действия."
   ],
   "metadata": {
    "collapsed": false
   }
  },
  {
   "cell_type": "markdown",
   "source": [
    "![](../img/Chapter_4_example_1_picture_1.png)"
   ],
   "metadata": {
    "collapsed": false
   }
  },
  {
   "cell_type": "markdown",
   "source": [
    "$f_{ЛСЭВ}(θ,φ)=|\\frac{cos(klsin(θ)sin(φ))-cos(kl)}{\\sqrt{1 - sin^2(θ)sin^2(φ)}}|$ (1)"
   ],
   "metadata": {
    "collapsed": false
   }
  },
  {
   "cell_type": "markdown",
   "source": [
    "$f_c(θ,φ) = \\frac{sin(n_1kd_1sin(θ)cos(φ)/2)}{sin(kd_1sin(θ)cos(φ)/2)}*\\frac{sin(n_2kd_2sin(θ)sin(φ)/2)}{sin(kd_2sin(θ)sin(φ)/2)}$ (2)"
   ],
   "metadata": {
    "collapsed": false
   }
  },
  {
   "cell_type": "markdown",
   "source": [
    "Формула (1) - это амплитудная характеристика направленности при ориентации вибратора вдоль оси Y.\n",
    "Формула (2) - это множитель системы.\n",
    "Для получения максимального значения нужно перемножить формулы (1) и (2)."
   ],
   "metadata": {
    "collapsed": false
   }
  },
  {
   "cell_type": "markdown",
   "source": [
    "$f(θ,φ) = f_{ЛСЭВ}(θ,φ)f_c(θ,φ)$ (3)"
   ],
   "metadata": {
    "collapsed": false
   }
  },
  {
   "cell_type": "markdown",
   "source": [
    "КНД рассчитывается по формуле (4):\n",
    "$D = \\frac{2πM^2}{\\int^{2π}_0\\int^{π}_0(f_{ЛСЭВ}(θ,φ)f_c(θ,φ))^2sin(θ)dθdφ}$ (4)"
   ],
   "metadata": {
    "collapsed": false
   }
  },
  {
   "cell_type": "code",
   "execution_count": 13,
   "outputs": [],
   "source": [
    "# Импортируем необходимые библиотеки\n",
    "import numpy\n",
    "from scipy import integrate\n",
    "from scipy.special import logsumexp\n",
    "import sys"
   ],
   "metadata": {
    "collapsed": false
   }
  },
  {
   "cell_type": "code",
   "execution_count": 14,
   "outputs": [],
   "source": [
    "n1 = 4  # число рядов в решетке\n",
    "n2 = 6  # число излучателей в ряду решетки\n",
    "d1 = 0.25  # расстояние между рядами\n",
    "d2 = 0.5  # шаг решетки в долях длины волны\n",
    "L = 0.25  # длина плеча вибратора\n",
    "# Задаем угл тета в градусах с параметрами:\n",
    "# начальное значение - 0.01\n",
    "# конечное значение - 360\n",
    "# количество точек - 360\n",
    "TETA = (numpy.pi/180)*numpy.linspace(0.01, 180, 360)\n",
    "PHI = (numpy.pi/180) * numpy.linspace(0.01, 360, 360)"
   ],
   "metadata": {
    "collapsed": false
   }
  },
  {
   "cell_type": "code",
   "execution_count": 15,
   "outputs": [],
   "source": [
    "# Функция get_unnormalized_hn рассчитывает максимум амплитудной характеристики\n",
    "# направленности по формуле 3.\n",
    "def get_max_amplitud_hn(teta, phi):\n",
    "    return numpy.array(\n",
    "        numpy.abs(\n",
    "            ((numpy.cos(2*numpy.pi*L*numpy.sin(phi)*numpy.sin(teta))-numpy.cos(2*numpy.pi*L))/numpy.sqrt(1 - (numpy.sin(phi)**2)*(numpy.sin(teta)**2))) *\n",
    "             ((numpy.sin(n1*2*numpy.pi*d1*numpy.sin(teta)*numpy.cos(phi)/2))/(numpy.sin(2*numpy.pi*d1*numpy.sin(teta)*numpy.cos(phi)/2))) *\n",
    "            ((numpy.sin(n2*2*numpy.pi*d2*numpy.sin(teta)*numpy.sin(phi)/2))/(numpy.sin(2*numpy.pi*d2*numpy.sin(teta)*numpy.sin(phi)/2)))\n",
    "        )\n",
    "    )\n",
    "\n",
    "\n",
    "def get_max_hn(hn):\n",
    "    return numpy.max(hn)\n",
    "\n",
    "\n",
    "# Функция get_aplitud_hn рассчитывает амплитудную характеристику вибратора по формуле 1\n",
    "def get_aplitud_hn(teta, phi):\n",
    "    return numpy.array(\n",
    "        (numpy.cos(2*numpy.pi*L*numpy.sin(phi)*numpy.sin(teta))-numpy.cos(2*numpy.pi*L))/numpy.sqrt(1 - (numpy.sin(phi)**2)*(numpy.sin(teta)**2))\n",
    "    )\n",
    "\n",
    "# Функция get_mnozh_sys рассчитывает множитилель системы по формуле 2\n",
    "def get_mnozh_sys(teta, phi):\n",
    "    return numpy.array(\n",
    "        ((numpy.sin(n1*2*numpy.pi*d1*numpy.sin(teta)*numpy.cos(phi)/2))/(numpy.sin(2*numpy.pi*d1*numpy.sin(teta)*numpy.cos(phi)/2))) *\n",
    "            ((numpy.sin(n2*2*numpy.pi*d2*numpy.sin(teta)*numpy.sin(phi)/2))/(numpy.sin(2*numpy.pi*d2*numpy.sin(teta)*numpy.sin(phi)/2)))\n",
    "    )"
   ],
   "metadata": {
    "collapsed": false
   }
  },
  {
   "cell_type": "code",
   "execution_count": 16,
   "outputs": [
    {
     "name": "stdout",
     "output_type": "stream",
     "text": [
      "23.999999999999996\n"
     ]
    }
   ],
   "source": [
    "f = get_max_amplitud_hn(TETA, PHI)  # поулаем максимальное значение\n",
    "M = get_max_hn(f)\n",
    "print(M)"
   ],
   "metadata": {
    "collapsed": false
   }
  },
  {
   "cell_type": "code",
   "execution_count": 17,
   "outputs": [],
   "source": [
    "# Функция integral необходима для расчета двойного интерграл в формуле 2.\n",
    "def integral(teta, phi):\n",
    "    w = (((numpy.cos(2*numpy.pi*L*numpy.sin(phi)*numpy.sin(teta))-numpy.cos(2*numpy.pi*L))/numpy.sqrt(1 - (numpy.sin(phi)**2)*(numpy.sin(teta)**2))) *\n",
    "             ((numpy.sin(n1*2*numpy.pi*d1*numpy.sin(teta)*numpy.cos(phi)/2))/(numpy.sin(2*numpy.pi*d1*numpy.sin(teta)*numpy.cos(phi)/2))) *\n",
    "            ((numpy.sin(n2*2*numpy.pi*d2*numpy.sin(teta)*numpy.sin(phi)/2))/(numpy.sin(2*numpy.pi*d2*numpy.sin(teta)*numpy.sin(phi)/2))))\n",
    "\n",
    "    return numpy.array(w*w*numpy.sin(teta))"
   ],
   "metadata": {
    "collapsed": false
   }
  },
  {
   "cell_type": "code",
   "execution_count": 18,
   "outputs": [
    {
     "ename": "NameError",
     "evalue": "name 'epsre' is not defined",
     "output_type": "error",
     "traceback": [
      "\u001B[0;31m---------------------------------------------------------------------------\u001B[0m",
      "\u001B[0;31mNameError\u001B[0m                                 Traceback (most recent call last)",
      "\u001B[0;32m/var/folders/jr/8ksm1hmj3hj8wsq6k4y5ctp40000gn/T/ipykernel_1960/2928740949.py\u001B[0m in \u001B[0;36m<module>\u001B[0;34m\u001B[0m\n\u001B[0;32m----> 1\u001B[0;31m \u001B[0mD1\u001B[0m \u001B[0;34m=\u001B[0m \u001B[0;34m(\u001B[0m\u001B[0;36m4\u001B[0m \u001B[0;34m*\u001B[0m \u001B[0mnumpy\u001B[0m\u001B[0;34m.\u001B[0m\u001B[0mpi\u001B[0m \u001B[0;34m*\u001B[0m \u001B[0mM\u001B[0m\u001B[0;34m**\u001B[0m\u001B[0;36m2\u001B[0m\u001B[0;34m)\u001B[0m \u001B[0;34m/\u001B[0m \u001B[0mintegrate\u001B[0m\u001B[0;34m.\u001B[0m\u001B[0mdblquad\u001B[0m\u001B[0;34m(\u001B[0m\u001B[0mintegral\u001B[0m\u001B[0;34m,\u001B[0m \u001B[0;36m0\u001B[0m\u001B[0;34m,\u001B[0m \u001B[0mnumpy\u001B[0m\u001B[0;34m.\u001B[0m\u001B[0mpi\u001B[0m\u001B[0;34m,\u001B[0m \u001B[0;32mlambda\u001B[0m \u001B[0mx\u001B[0m\u001B[0;34m:\u001B[0m \u001B[0;36m0\u001B[0m\u001B[0;34m,\u001B[0m \u001B[0;32mlambda\u001B[0m \u001B[0my\u001B[0m\u001B[0;34m:\u001B[0m \u001B[0;36m2\u001B[0m\u001B[0;34m*\u001B[0m\u001B[0mnumpy\u001B[0m\u001B[0;34m.\u001B[0m\u001B[0mpi\u001B[0m\u001B[0;34m)\u001B[0m\u001B[0;34m[\u001B[0m\u001B[0;36m0\u001B[0m\u001B[0;34m]\u001B[0m\u001B[0;34m\u001B[0m\u001B[0m\n\u001B[0m\u001B[1;32m      2\u001B[0m \u001B[0;31m# print(D1)\u001B[0m\u001B[0;34m\u001B[0m\u001B[0;34m\u001B[0m\u001B[0m\n\u001B[1;32m      3\u001B[0m \u001B[0mprint\u001B[0m\u001B[0;34m(\u001B[0m\u001B[0mD1\u001B[0m\u001B[0;34m)\u001B[0m\u001B[0;34m\u001B[0m\u001B[0m\n",
      "\u001B[0;32m~/Desktop/education/Course-4/АиРР/program/venv/lib/python3.7/site-packages/scipy/integrate/quadpack.py\u001B[0m in \u001B[0;36mdblquad\u001B[0;34m(func, a, b, gfun, hfun, args, epsabs, epsrel)\u001B[0m\n\u001B[1;32m    600\u001B[0m \u001B[0;34m\u001B[0m\u001B[0m\n\u001B[1;32m    601\u001B[0m     return nquad(func, [temp_ranges, [a, b]], args=args,\n\u001B[0;32m--> 602\u001B[0;31m             opts={\"epsabs\": epsabs, \"epsrel\": epsrel})\n\u001B[0m\u001B[1;32m    603\u001B[0m \u001B[0;34m\u001B[0m\u001B[0m\n\u001B[1;32m    604\u001B[0m \u001B[0;34m\u001B[0m\u001B[0m\n",
      "\u001B[0;31mNameError\u001B[0m: name 'epsre' is not defined"
     ]
    }
   ],
   "source": [
    "D1 = (4 * numpy.pi * M**2) / integrate.dblquad(integral, 0, numpy.pi, lambda x: 0, lambda y: 2*numpy.pi)[0]\n",
    "# print(D1)\n",
    "print(D1)"
   ],
   "metadata": {
    "collapsed": false
   }
  },
  {
   "cell_type": "code",
   "execution_count": null,
   "outputs": [],
   "source": [],
   "metadata": {
    "collapsed": false
   }
  }
 ],
 "metadata": {
  "kernelspec": {
   "display_name": "Python 3",
   "language": "python",
   "name": "python3"
  },
  "language_info": {
   "codemirror_mode": {
    "name": "ipython",
    "version": 2
   },
   "file_extension": ".py",
   "mimetype": "text/x-python",
   "name": "python",
   "nbconvert_exporter": "python",
   "pygments_lexer": "ipython2",
   "version": "2.7.6"
  }
 },
 "nbformat": 4,
 "nbformat_minor": 0
}
