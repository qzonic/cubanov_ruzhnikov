{
 "cells": [
  {
   "cell_type": "markdown",
   "source": [
    "Плоская синфазная антенная решетка, состоящая из полуволновых линейных симметричных вибраторов (рис. 4.20), возбуждена токами равных амплитуд. Для условий: $n_1 = 4$, $n_2 = 6$ , $d_1 = 0,25λ$ , $d_2 = 0,5λ$ рассчитать максимальное значение коэффициента направленного действия.\n",
    "\n",
    "Ссылка:\n",
    "https://www.wolframalpha.com/input?i2d=true&i=Integrate%5BPower%5B%5C%2840%29Divide%5Bcos%5C%2840%292*pi*L*sin%5C%2840%29x%5C%2841%29*sin%5C%2840%29y%5C%2841%29%5C%2841%29-cos%5C%2840%292*pi*L%5C%2841%29%2CSqrt%5B1-Power%5Bsin%5C%2840%29x%5C%2841%29%2C2%5D*Power%5Bsin%5C%2840%29y%5C%2841%29%2C2%5D%5D%5DDivide%5Bsin%5C%2840%29Divide%5Bn1*2*pi*d1*sin%5C%2840%29y%5C%2841%29*cos%5C%2840%29x%5C%2841%29%2C2%5D%5C%2841%29%2Csin%5C%2840%29Divide%5B2*pi*d1*sin%5C%2840%29y%5C%2841%29*cos%5C%2840%29x%5C%2841%29%2C2%5D%5C%2841%29%5D*Divide%5Bsin%5C%2840%29Divide%5Bn2*2*pi*d2*sin%5C%2840%29y%5C%2841%29*sin%5C%2840%29x%5C%2841%29%2C2%5D%5C%2841%29%2Csin%5C%2840%29Divide%5B2*pi*d2*sin%5C%2840%29y%5C%2841%29*sin%5C%2840%29x%5C%2841%29%2C2%5D%5C%2841%29%5D%5C%2841%29%2C2%5D*sin%5C%2840%29y%5C%2841%29%2C%7By%2C0%2Cpi%7D%2C%7Bx%2C0%2C2*pi%7D%5D"
   ],
   "metadata": {
    "collapsed": false
   }
  },
  {
   "cell_type": "markdown",
   "source": [
    "![](../img/Chapter_4_example_1_picture_1.png)"
   ],
   "metadata": {
    "collapsed": false
   }
  },
  {
   "cell_type": "markdown",
   "source": [
    "$f_{ЛСЭВ}(θ,φ)=|\\frac{cos(klsin(θ)sin(φ))-cos(kl)}{\\sqrt{1 - sin^2(θ)sin^2(φ)}}|$ (1)"
   ],
   "metadata": {
    "collapsed": false
   }
  },
  {
   "cell_type": "markdown",
   "source": [
    "$f_c(θ,φ) = \\frac{sin(n_1kd_1sin(θ)cos(φ)/2)}{sin(kd_1sin(θ)cos(φ)/2)}*\\frac{sin(n_2kd_2sin(θ)sin(φ)/2)}{sin(kd_2sin(θ)sin(φ)/2)}$ (2)"
   ],
   "metadata": {
    "collapsed": false
   }
  },
  {
   "cell_type": "markdown",
   "source": [
    "Формула (1) - это амплитудная характеристика направленности при ориентации вибратора вдоль оси Y.\n",
    "Формула (2) - это множитель системы.\n",
    "Для получения максимального значения нужно перемножить формулы (1) и (2)."
   ],
   "metadata": {
    "collapsed": false
   }
  },
  {
   "cell_type": "markdown",
   "source": [
    "$f(θ,φ) = f_{ЛСЭВ}(θ,φ)f_c(θ,φ)$ (3)"
   ],
   "metadata": {
    "collapsed": false
   }
  },
  {
   "cell_type": "markdown",
   "source": [
    "КНД рассчитывается по формуле (4):\n",
    "$D = \\frac{2πM^2}{\\int^{2π}_0\\int^{π}_0(f_{ЛСЭВ}(θ,φ)f_c(θ,φ))^2sin(θ)dθdφ}$ (4)"
   ],
   "metadata": {
    "collapsed": false
   }
  },
  {
   "cell_type": "code",
   "execution_count": 25,
   "outputs": [],
   "source": [
    "# Импортируем необходимые библиотеки\n",
    "import numpy\n",
    "from scipy import integrate\n",
    "import requests\n",
    "import urllib"
   ],
   "metadata": {
    "collapsed": false
   }
  },
  {
   "cell_type": "code",
   "execution_count": 26,
   "outputs": [],
   "source": [
    "n1 = 4  # число рядов в решетке\n",
    "n2 = 6  # число излучателей в ряду решетки\n",
    "d1 = 0.25  # расстояние между рядами\n",
    "d2 = 0.5  # шаг решетки в долях длины волны\n",
    "L = 0.25  # длина плеча вибратора\n",
    "# Задаем угл тета в градусах с параметрами:\n",
    "# начальное значение - 0.01\n",
    "# конечное значение - 360\n",
    "# количество точек - 360\n",
    "TETA = (numpy.pi/180)*numpy.linspace(0.01, 180, 360)\n",
    "PHI = (numpy.pi/180) * numpy.linspace(0.01, 360, 360)"
   ],
   "metadata": {
    "collapsed": false
   }
  },
  {
   "cell_type": "code",
   "execution_count": 27,
   "outputs": [],
   "source": [
    "# Функция get_unnormalized_hn рассчитывает максимум амплитудной характеристики направленности по формуле 3.\n",
    "def get_max_amplitud_hn(teta, phi):\n",
    "    return numpy.array(\n",
    "            ((numpy.cos(2*numpy.pi*L*numpy.sin(phi)*numpy.sin(teta))-numpy.cos(2*numpy.pi*L))/numpy.sqrt(1 - (numpy.sin(phi)**2)*(numpy.sin(teta)**2))) *\n",
    "             ((numpy.sin(n1*2*numpy.pi*d1*numpy.sin(teta)*numpy.cos(phi)/2))/(numpy.sin(2*numpy.pi*d1*numpy.sin(teta)*numpy.cos(phi)/2))) *\n",
    "            ((numpy.sin(n2*2*numpy.pi*d2*numpy.sin(teta)*numpy.sin(phi)/2))/(numpy.sin(2*numpy.pi*d2*numpy.sin(teta)*numpy.sin(phi)/2)))\n",
    "    )\n",
    "\n",
    "\n",
    "def get_max_hn(hn):\n",
    "    return numpy.max(hn)\n",
    "\n",
    "\n",
    "# Функция get_aplitud_hn рассчитывает амплитудную характеристику вибратора по формуле 1\n",
    "def get_aplitud_hn(teta, phi):\n",
    "    return numpy.array(\n",
    "        ((numpy.cos(2*numpy.pi*L*numpy.sin(phi)*numpy.sin(teta))-numpy.cos(2*numpy.pi*L))/numpy.sqrt(1 - (numpy.sin(phi)**2)*(numpy.sin(teta)**2)))\n",
    "    )\n",
    "\n",
    "# Функция get_mnozh_sys рассчитывает множитилель системы по формуле 2\n",
    "def get_mnozh_sys1(teta, phi):\n",
    "    return numpy.array(\n",
    "        numpy.sin((n1*2*numpy.pi*d1*numpy.sin(teta)*numpy.cos(phi))/2) /\n",
    "        (numpy.sin((2*numpy.pi*d1*numpy.sin(teta)*numpy.cos(phi)/2)))\n",
    "    )\n",
    "\n",
    "\n",
    "def get_mnozh_sys2(teta, phi):\n",
    "    return numpy.array(\n",
    "        numpy.sin((n2*2*numpy.pi*d2*numpy.sin(teta)*numpy.sin(phi))/2) /\n",
    "        (numpy.sin((2*numpy.pi*d2*numpy.sin(teta)*numpy.sin(phi)/2)))\n",
    "    )"
   ],
   "metadata": {
    "collapsed": false
   }
  },
  {
   "cell_type": "code",
   "execution_count": 28,
   "outputs": [
    {
     "name": "stdout",
     "output_type": "stream",
     "text": [
      "23.999999999999996\n"
     ]
    }
   ],
   "source": [
    "f = get_max_amplitud_hn(TETA, PHI)  # поулаем максимальное значение\n",
    "M = get_max_hn(f)\n",
    "print(M)"
   ],
   "metadata": {
    "collapsed": false
   }
  },
  {
   "cell_type": "code",
   "execution_count": 29,
   "outputs": [],
   "source": [
    "# Функция integral необходима для расчета двойного интерграл в формуле 2.\n",
    "def integral(teta, phi):\n",
    "    f = get_aplitud_hn(teta, phi) * get_mnozh_sys1(teta, phi) * get_mnozh_sys2(teta, phi)\n",
    "    return numpy.array(f**2*numpy.sin(teta))"
   ],
   "metadata": {
    "collapsed": false
   }
  },
  {
   "cell_type": "code",
   "execution_count": 30,
   "outputs": [
    {
     "name": "stdout",
     "output_type": "stream",
     "text": [
      "19.62366877194886\n"
     ]
    }
   ],
   "source": [
    "# D1 = (4 * numpy.pi * M**2) / integrate.nquad(integral, [[0, numpy.pi], [0, 2*numpy.pi]], opts={'limit': 200})[0]\n",
    "# print(D1)\n",
    "\n",
    "# В переменную INTEGRAL нужно подставить значение, рассчитанное с помощью сервиса Wolfram Alpha (см. ссылку).\n",
    "# В открывшемся окне необходимо вместо n1, n2, d1, d2, L подставить свои значения и нажать знак равенства.\n",
    "# Пример показан на скриншотах ниже.\n",
    "INTEGRAL = 368.852\n",
    "\n",
    "D1 = (4 * numpy.pi * M**2) / INTEGRAL\n",
    "print(D1)"
   ],
   "metadata": {
    "collapsed": false
   }
  },
  {
   "cell_type": "markdown",
   "source": [
    "![](../img/Chapter_4_example_3_picture_1.png)"
   ],
   "metadata": {
    "collapsed": false
   }
  },
  {
   "cell_type": "markdown",
   "source": [
    "![](../img/Chapter_4_example_3_picture_2.png)"
   ],
   "metadata": {
    "collapsed": false
   }
  }
 ],
 "metadata": {
  "kernelspec": {
   "display_name": "Python 3",
   "language": "python",
   "name": "python3"
  },
  "language_info": {
   "codemirror_mode": {
    "name": "ipython",
    "version": 2
   },
   "file_extension": ".py",
   "mimetype": "text/x-python",
   "name": "python",
   "nbconvert_exporter": "python",
   "pygments_lexer": "ipython2",
   "version": "2.7.6"
  }
 },
 "nbformat": 4,
 "nbformat_minor": 0
}
