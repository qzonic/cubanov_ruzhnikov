{
 "cells": [
  {
   "cell_type": "markdown",
   "source": [
    "Приближенным методом, основанном на аналогии тонкого вибратора и разомкнутой двухпроводной линии с потерями, определить значение входного сопротивления линейного симметричного электрического вибратора, излучающего на частоте 352,94 МГц, имеющего длину плеча $l=0,25$ м, радиус провода плеча $a=0,00625$ м."
   ],
   "metadata": {
    "collapsed": false
   }
  },
  {
   "cell_type": "markdown",
   "source": [
    "**Решение задачи**"
   ],
   "metadata": {
    "collapsed": false
   }
  },
  {
   "cell_type": "markdown",
   "source": [
    "![](../img/Chapter_3_example_2_picture_1.jpg)"
   ],
   "metadata": {
    "collapsed": false
   }
  },
  {
   "cell_type": "code",
   "execution_count": 1,
   "outputs": [],
   "source": [
    "# Импортируем необходимые библиотеки\n",
    "import numpy\n",
    "from scipy import integrate"
   ],
   "metadata": {
    "collapsed": false
   }
  },
  {
   "cell_type": "code",
   "execution_count": 2,
   "outputs": [],
   "source": [
    "f = 352940000  # частота излучения вибратора\n",
    "l = 0.25  # длина плеча\n",
    "a = 0.00625  # радиус провода плеча\n",
    "lam = 0.85  # длина волны, соотвествующая заданной частоте\n",
    "l_lam = l/lam  # отношение длины плеча к длине волны\n",
    "l_d = l/(2*a)  # отношение длины плеча к диаметру провода плеча\n",
    "c_v = 1.07  # отношение скорости света к фазовой скорости, определенное по рисунку 3.9\n",
    "k = (2*numpy.pi)/lam"
   ],
   "metadata": {
    "collapsed": false
   }
  },
  {
   "cell_type": "code",
   "execution_count": 3,
   "outputs": [],
   "source": [
    "beta = c_v*((2*numpy.pi)/lam)  # коэффициент фазы"
   ],
   "metadata": {
    "collapsed": false
   }
  },
  {
   "cell_type": "markdown",
   "source": [
    "Коэффициент затухания определяется по формуле (1) с учетом замены $k$ на $β$.\n",
    "$α=R_{ΣП}/[120l(ln(l/a)-1)(1-sin(2βl)/2βl)]$  (1)\n",
    "Сопротивление излучения, отнесенное к пучности тока, рассчитаем по формуле\n",
    "$R_Σ=60\\int^π_0\\frac{(cos(klcos(θ))-cos(kl))^2}{sin(θ)}dθ$ (2)"
   ],
   "metadata": {
    "collapsed": false
   }
  },
  {
   "cell_type": "code",
   "execution_count": 4,
   "outputs": [
    {
     "name": "stdout",
     "output_type": "stream",
     "text": [
      "R = 114.10380206965559 Ом\n"
     ]
    }
   ],
   "source": [
    "def integral(teta):\n",
    "    return 60*numpy.array(((numpy.cos(k*l*numpy.cos(teta))-numpy.cos(k*l))**2)/numpy.sin(teta))\n",
    "R = integrate.quad(integral, 0, numpy.pi)[0]  # Сопротивление излучения\n",
    "print('R =', R, 'Ом')"
   ],
   "metadata": {
    "collapsed": false
   }
  },
  {
   "cell_type": "code",
   "execution_count": 5,
   "outputs": [
    {
     "name": "stdout",
     "output_type": "stream",
     "text": [
      "alpha = 1.1950063743195214 1/м\n"
     ]
    }
   ],
   "source": [
    "alpha = R/(120*l*(numpy.log(l/a)-1)*(1-numpy.sin(2*beta*l)/(2*beta*l)))  # результирующий коэффициента затухания\n",
    "print('alpha =', alpha, '1/м')"
   ],
   "metadata": {
    "collapsed": false
   }
  },
  {
   "cell_type": "markdown",
   "source": [
    "Вычислим по формуле (3) комплексное волновое сопротивление эквивалентной линии с потерями:\n",
    "$Z_в=120(ln(l/a)-1)(1-jα/β)$ (3)"
   ],
   "metadata": {
    "collapsed": false
   }
  },
  {
   "cell_type": "code",
   "execution_count": 6,
   "outputs": [
    {
     "name": "stdout",
     "output_type": "stream",
     "text": [
      "ZB = (322.66553449367234-48.75038841740443j) Ом\n"
     ]
    }
   ],
   "source": [
    "ZB = 120*(numpy.log(l/a)-1)*(1-alpha/beta*1j)\n",
    "print('ZB =', ZB, 'Ом')"
   ],
   "metadata": {
    "collapsed": false
   }
  },
  {
   "cell_type": "markdown",
   "source": [
    "Подставим исходные и полученные данные в формулу (4).\n",
    "$Z_{вх}=Z_вcth(γl)$ (4)\n",
    "Приняв во внимание, что комплексная постоянная распространения $γ = α + jβ$, получим\n"
   ],
   "metadata": {
    "collapsed": false
   }
  },
  {
   "cell_type": "code",
   "execution_count": 7,
   "outputs": [
    {
     "name": "stdout",
     "output_type": "stream",
     "text": [
      "ZBH = (128.20459806014367+108.75978171957603j) Ом\n"
     ]
    }
   ],
   "source": [
    "ZBH = ZB * 1/numpy.tanh((l*alpha+l*beta*1j))\n",
    "print('ZBH =', ZBH, 'Ом')"
   ],
   "metadata": {
    "collapsed": false
   }
  }
 ],
 "metadata": {
  "kernelspec": {
   "display_name": "Python 3",
   "language": "python",
   "name": "python3"
  },
  "language_info": {
   "codemirror_mode": {
    "name": "ipython",
    "version": 2
   },
   "file_extension": ".py",
   "mimetype": "text/x-python",
   "name": "python",
   "nbconvert_exporter": "python",
   "pygments_lexer": "ipython2",
   "version": "2.7.6"
  }
 },
 "nbformat": 4,
 "nbformat_minor": 0
}
