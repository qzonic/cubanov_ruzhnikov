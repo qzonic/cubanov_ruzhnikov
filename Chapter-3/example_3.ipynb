{
 "cells": [
  {
   "cell_type": "markdown",
   "source": [
    "Два одинаковых линейных симметричных электрических вибра-\n",
    "тора с длиной плеча $l = 0,4$ м расположены параллельно друг другу на рассто- янии $d = 0,25λ$ (рис. 3.20). Вибраторы возбуждаются токами частоты 300 МГц. Значения амплитуд токов на входных зажимах одинаковы и равны 1 А. Отношение комплексных значений токов $I_2/I_1 = e^{\\frac{-jπ}{2}}$ (ток $I_1$ опережает по фазе ток $I_2$̇). Определить амплитуды напряженностей суммарного электрического поля излучения вибраторов в точках Р1 и Р2, расположенных соответственно на осях OX и OY на расстоянии $r = 1000$ м от начала координат."
   ],
   "metadata": {
    "collapsed": false
   }
  },
  {
   "cell_type": "markdown",
   "source": [
    "![](../img/Chapter_3_example_3_picture_1.png)"
   ],
   "metadata": {
    "collapsed": false
   }
  },
  {
   "cell_type": "markdown",
   "source": [
    "**Решение задачи**\n",
    "Значение амплитуды напряженности электрического поля в произволь- ной точке дальней зоны в Н – плоскости определяется формулой\n",
    "$E(φ)=\\frac{60I_п}{r}(1-cos(kl))\\sqrt{1+q^2+2qcos(ψ-kdsin(φ))}$(1)"
   ],
   "metadata": {
    "collapsed": false
   }
  },
  {
   "cell_type": "markdown",
   "source": [
    "Так как заданы токи на входных зажимах, то учитывая, что $I_п=\\frac{I_{вх}}{sin(kl)}$, можно записать:\n",
    "$E(φ)=\\frac{60I_{вх}}{rsin(kl)}(1-cos(kl))\\sqrt{1+q^2+2qcos(ψ-kdsin(φ))}$ (2)"
   ],
   "metadata": {
    "collapsed": false
   }
  },
  {
   "cell_type": "markdown",
   "source": [
    "По исходным данным отношение амплитуд токов 𝑞 = 1, разность фаз токов\n",
    "   $ψ = −π/2$. Для точки Р1 угол $φ = 0°$, поэтому для неё из (2).\n",
    "Для точки Р2 угол $φ = 90°$."
   ],
   "metadata": {
    "collapsed": false
   }
  },
  {
   "cell_type": "markdown",
   "source": [
    "$E(P_1)=\\frac{60I_{вх}}{rsin(kl)}(1-cos(kl))\\sqrt2$ (3)\n",
    "$E(P_2)=\\frac{60I_{вх}}{rsin(kl)}(1-cos(kl))\\sqrt{2+2cos(-π/2-kd)}$ (4)"
   ],
   "metadata": {
    "collapsed": false
   }
  },
  {
   "cell_type": "code",
   "execution_count": 1,
   "outputs": [],
   "source": [
    "# Импортируем необходимые библиотеки\n",
    "import numpy"
   ],
   "metadata": {
    "collapsed": false
   }
  },
  {
   "cell_type": "code",
   "execution_count": 2,
   "outputs": [],
   "source": [
    "Ivh = 1  # значения амплитуд токов на входных зажимах\n",
    "r = 1000\n",
    "l = 0.4  # длина плеча\n",
    "lam = 1  # длина волны\n",
    "kl = 2*numpy.pi*l/lam\n",
    "d = 0.25*lam\n",
    "kd = 2*numpy.pi*d/lam"
   ],
   "metadata": {
    "collapsed": false
   }
  },
  {
   "cell_type": "code",
   "execution_count": 3,
   "outputs": [],
   "source": [
    "# Функция get_electric_field_p1 рассчитывает амплитуду напряженностей суммарного электрического поля излучения вибраторов в точке P1\n",
    "def get_electric_field_p1():\n",
    "    return (60*Ivh/(r*numpy.sin(kl)))*(1-numpy.cos(kl))*numpy.sqrt(2)\n",
    "\n",
    "# Функция get_electric_field_p2 рассчитывает амплитуду напряженностей суммарного электрического поля излучения вибраторов в точке P2\n",
    "def get_electric_field_p2():\n",
    "    return (60*Ivh/(r*numpy.sin(kl)))*(1-numpy.cos(kl))*numpy.sqrt(\n",
    "        2 + 2*numpy.cos(-(numpy.pi/2) - kd))"
   ],
   "metadata": {
    "collapsed": false
   }
  },
  {
   "cell_type": "code",
   "execution_count": 4,
   "outputs": [
    {
     "name": "stdout",
     "output_type": "stream",
     "text": [
      "EP1: 0.2611501079379385\n",
      "EP2: 0.0\n"
     ]
    }
   ],
   "source": [
    "EP1 = get_electric_field_p1()\n",
    "print('EP1:',EP1)\n",
    "EP2 = get_electric_field_p2()\n",
    "print('EP2:',EP2)"
   ],
   "metadata": {
    "collapsed": false
   }
  }
 ],
 "metadata": {
  "kernelspec": {
   "display_name": "Python 3",
   "language": "python",
   "name": "python3"
  },
  "language_info": {
   "codemirror_mode": {
    "name": "ipython",
    "version": 2
   },
   "file_extension": ".py",
   "mimetype": "text/x-python",
   "name": "python",
   "nbconvert_exporter": "python",
   "pygments_lexer": "ipython2",
   "version": "2.7.6"
  }
 },
 "nbformat": 4,
 "nbformat_minor": 0
}
